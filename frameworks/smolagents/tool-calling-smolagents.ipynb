{
 "cells": [
  {
   "cell_type": "markdown",
   "id": "98428b02",
   "metadata": {},
   "source": [
    "## Tool calling with Smolagents\n",
    "\n",
    "[Smolagents](https://github.com/huggingface/smolagents) is a lightweight framework designed to build agents that “write their actions in code.” It is built around simplicity and flexibility:\n",
    "\n",
    "* Simplicity: The library has minimal abstractions, making it easy to use even for beginners.\n",
    "* Code-First Approach: It supports “Code Agents” that write actions in code, executed securely in sandboxed environments.\n",
    "* ReAct Framework: smolagents follow the “Reasoning + Acting” framework, where the LLM reasons about the task, selects tools dynamically, executes actions, and observes results iteratively.\n",
    "\n",
    "The figure below, taken from Executable Code Actions Elicit Better LLM Agents, illustrates some advantages of writing actions in code:\n",
    "\n",
    "![Graphic showing advatanges of code over json for agents](code_vs_json_actions.png \"Graphic showing advatanges of code over json for agents]\")\n",
    "\n"
   ]
  },
  {
   "cell_type": "markdown",
   "id": "388475b1",
   "metadata": {},
   "source": [
    "### 1. Setup and Import Libraries\n",
    "\n",
    "To get started, you'll need to install and import a few Python libraries. Run the following command to install them:"
   ]
  },
  {
   "cell_type": "code",
   "execution_count": 1,
   "id": "f0a84f4c",
   "metadata": {},
   "outputs": [
    {
     "name": "stdout",
     "output_type": "stream",
     "text": [
      "\n",
      "\u001b[1m[\u001b[0m\u001b[34;49mnotice\u001b[0m\u001b[1;39;49m]\u001b[0m\u001b[39;49m A new release of pip is available: \u001b[0m\u001b[31;49m24.2\u001b[0m\u001b[39;49m -> \u001b[0m\u001b[32;49m25.0.1\u001b[0m\n",
      "\u001b[1m[\u001b[0m\u001b[34;49mnotice\u001b[0m\u001b[1;39;49m]\u001b[0m\u001b[39;49m To update, run: \u001b[0m\u001b[32;49mpip install --upgrade pip\u001b[0m\n",
      "\n",
      "\u001b[1m[\u001b[0m\u001b[34;49mnotice\u001b[0m\u001b[1;39;49m]\u001b[0m\u001b[39;49m A new release of pip is available: \u001b[0m\u001b[31;49m24.2\u001b[0m\u001b[39;49m -> \u001b[0m\u001b[32;49m25.0.1\u001b[0m\n",
      "\u001b[1m[\u001b[0m\u001b[34;49mnotice\u001b[0m\u001b[1;39;49m]\u001b[0m\u001b[39;49m To update, run: \u001b[0m\u001b[32;49mpip install --upgrade pip\u001b[0m\n"
     ]
    }
   ],
   "source": [
    "!pip install markdownify duckduckgo-search smolagents --upgrade --quiet\n",
    "!pip install langchain langchain-openai --quiet"
   ]
  },
  {
   "cell_type": "code",
   "execution_count": 2,
   "id": "43032aa5-6455-44cd-9c9f-b28d30a481a1",
   "metadata": {},
   "outputs": [],
   "source": [
    "from smolagents import CodeAgent, DuckDuckGoSearchTool, HfApiModel\n",
    "from smolagents import HfApiModel\n",
    "from typing import Optional"
   ]
  },
  {
   "cell_type": "markdown",
   "id": "35534994",
   "metadata": {},
   "source": [
    "### 2. Create and run the agent\n",
    "\n",
    "Create an agent configured to use the DuckDuckGoSearchTool, HfApiModel, and some additional python imports which can be used during execution of generated code. \n",
    "\n",
    "The HfApiModel wraps the Huggingface [inference client](https://huggingface.co/docs/huggingface_hub/main/en/guides/inference) for LLM execution. This defaults to using the `Qwen/Qwen2.5-Coder-32B-Instruct` model.\n",
    "\n",
    "We're also going to test the agent with a prompt: `Based on the population growth of China over the last ten years, what will the population be in 2030?`"
   ]
  },
  {
   "cell_type": "code",
   "execution_count": 3,
   "id": "1d81cf9a-c391-4dc5-933b-4843a8e81e4e",
   "metadata": {},
   "outputs": [],
   "source": [
    "import os\n",
    "\n",
    "os.environ[\"TAVILY_API_KEY\"] = \"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\"\n",
    "os.environ['ATHINA_API_KEY'] = \"IhrJrr0krTMRA9ogqi5aaD4ZuYuvMcdG\"\n",
    "os.environ['SERPAPI_API_KEY']= \"d79f01166cee047474b994092fd5f2462c2461490acf51ad91bf48ef10f46c28\"\n",
    "\n",
    "INFERENCE_SERVER_URL = \"http://localhost:8989\"\n",
    "MODEL_NAME = \"deepseek-ai/DeepSeek-R1-Distill-Qwen-14B\"\n",
    "API_KEY= \"alanliuxiang\"\n"
   ]
  },
  {
   "cell_type": "code",
   "execution_count": 4,
   "id": "facc4d9f-ed75-4b1e-90e8-84d99bda8050",
   "metadata": {},
   "outputs": [],
   "source": [
    "from smolagents import OpenAIServerModel, ToolCallingAgent\n",
    "\n",
    "# Configure the model to use LM Studio's local API endpoint\n",
    "model = OpenAIServerModel(\n",
    "    model_id= MODEL_NAME,  # This can be any name, LM Studio will use whatever model you have loaded\n",
    "    api_base= f\"{INFERENCE_SERVER_URL}/v1\",  # Default LM Studio API endpoint\n",
    "    api_key=API_KEY,  # LM Studio doesn't require an API key by default\n",
    ")\n"
   ]
  },
  {
   "cell_type": "code",
   "execution_count": 5,
   "id": "ef8a9f34-d40a-4214-af98-c273d0d00452",
   "metadata": {},
   "outputs": [
    {
     "data": {
      "text/html": [
       "<pre style=\"white-space:pre;overflow-x:auto;line-height:normal;font-family:Menlo,'DejaVu Sans Mono',consolas,'Courier New',monospace\"><span style=\"color: #d4b702; text-decoration-color: #d4b702\">╭──────────────────────────────────────────────────── </span><span style=\"color: #d4b702; text-decoration-color: #d4b702; font-weight: bold\">New run</span><span style=\"color: #d4b702; text-decoration-color: #d4b702\"> ────────────────────────────────────────────────────╮</span>\n",
       "<span style=\"color: #d4b702; text-decoration-color: #d4b702\">│</span>                                                                                                                 <span style=\"color: #d4b702; text-decoration-color: #d4b702\">│</span>\n",
       "<span style=\"color: #d4b702; text-decoration-color: #d4b702\">│</span> <span style=\"font-weight: bold\">Based on the population growth of China over the last ten years, what will the population be in 2030?</span>           <span style=\"color: #d4b702; text-decoration-color: #d4b702\">│</span>\n",
       "<span style=\"color: #d4b702; text-decoration-color: #d4b702\">│</span>                                                                                                                 <span style=\"color: #d4b702; text-decoration-color: #d4b702\">│</span>\n",
       "<span style=\"color: #d4b702; text-decoration-color: #d4b702\">╰─ OpenAIServerModel - deepseek-ai/DeepSeek-R1-Distill-Qwen-14B ──────────────────────────────────────────────────╯</span>\n",
       "</pre>\n"
      ],
      "text/plain": [
       "\u001b[38;2;212;183;2m╭─\u001b[0m\u001b[38;2;212;183;2m───────────────────────────────────────────────────\u001b[0m\u001b[38;2;212;183;2m \u001b[0m\u001b[1;38;2;212;183;2mNew run\u001b[0m\u001b[38;2;212;183;2m \u001b[0m\u001b[38;2;212;183;2m───────────────────────────────────────────────────\u001b[0m\u001b[38;2;212;183;2m─╮\u001b[0m\n",
       "\u001b[38;2;212;183;2m│\u001b[0m                                                                                                                 \u001b[38;2;212;183;2m│\u001b[0m\n",
       "\u001b[38;2;212;183;2m│\u001b[0m \u001b[1mBased on the population growth of China over the last ten years, what will the population be in 2030?\u001b[0m           \u001b[38;2;212;183;2m│\u001b[0m\n",
       "\u001b[38;2;212;183;2m│\u001b[0m                                                                                                                 \u001b[38;2;212;183;2m│\u001b[0m\n",
       "\u001b[38;2;212;183;2m╰─\u001b[0m\u001b[38;2;212;183;2m OpenAIServerModel - deepseek-ai/DeepSeek-R1-Distill-Qwen-14B \u001b[0m\u001b[38;2;212;183;2m─────────────────────────────────────────────────\u001b[0m\u001b[38;2;212;183;2m─╯\u001b[0m\n"
      ]
     },
     "metadata": {},
     "output_type": "display_data"
    },
    {
     "data": {
      "text/html": [
       "<pre style=\"white-space:pre;overflow-x:auto;line-height:normal;font-family:Menlo,'DejaVu Sans Mono',consolas,'Courier New',monospace\"><span style=\"color: #d4b702; text-decoration-color: #d4b702\">━━━━━━━━━━━━━━━━━━━━━━━━━━━━━━━━━━━━━━━━━━━━━━━━━━━━━ </span><span style=\"font-weight: bold\">Step </span><span style=\"color: #008080; text-decoration-color: #008080; font-weight: bold\">1</span><span style=\"color: #d4b702; text-decoration-color: #d4b702\"> ━━━━━━━━━━━━━━━━━━━━━━━━━━━━━━━━━━━━━━━━━━━━━━━━━━━━━━</span>\n",
       "</pre>\n"
      ],
      "text/plain": [
       "\u001b[38;2;212;183;2m━━━━━━━━━━━━━━━━━━━━━━━━━━━━━━━━━━━━━━━━━━━━━━━━━━━━━ \u001b[0m\u001b[1mStep \u001b[0m\u001b[1;36m1\u001b[0m\u001b[38;2;212;183;2m ━━━━━━━━━━━━━━━━━━━━━━━━━━━━━━━━━━━━━━━━━━━━━━━━━━━━━━\u001b[0m\n"
      ]
     },
     "metadata": {},
     "output_type": "display_data"
    },
    {
     "data": {
      "text/html": [
       "<pre style=\"white-space:pre;overflow-x:auto;line-height:normal;font-family:Menlo,'DejaVu Sans Mono',consolas,'Courier New',monospace\"> ─ <span style=\"font-weight: bold\">Executing parsed code:</span> ──────────────────────────────────────────────────────────────────────────────────────── \n",
       "  <span style=\"color: #f8f8f2; text-decoration-color: #f8f8f2; background-color: #272822\">current_population </span><span style=\"color: #ff4689; text-decoration-color: #ff4689; background-color: #272822\">=</span><span style=\"color: #f8f8f2; text-decoration-color: #f8f8f2; background-color: #272822\"> web_search(</span><span style=\"color: #e6db74; text-decoration-color: #e6db74; background-color: #272822\">\"China's population in 2023\"</span><span style=\"color: #f8f8f2; text-decoration-color: #f8f8f2; background-color: #272822\">)</span><span style=\"background-color: #272822\">                                                  </span>  \n",
       "  <span style=\"color: #f8f8f2; text-decoration-color: #f8f8f2; background-color: #272822\">growth_rate </span><span style=\"color: #ff4689; text-decoration-color: #ff4689; background-color: #272822\">=</span><span style=\"color: #f8f8f2; text-decoration-color: #f8f8f2; background-color: #272822\"> web_search(</span><span style=\"color: #e6db74; text-decoration-color: #e6db74; background-color: #272822\">\"China population growth rate 2023\"</span><span style=\"color: #f8f8f2; text-decoration-color: #f8f8f2; background-color: #272822\">)</span><span style=\"background-color: #272822\">                                                  </span>  \n",
       "  <span style=\"color: #f8f8f2; text-decoration-color: #f8f8f2; background-color: #272822\">print(</span><span style=\"color: #e6db74; text-decoration-color: #e6db74; background-color: #272822\">f\"Current population: {</span><span style=\"color: #f8f8f2; text-decoration-color: #f8f8f2; background-color: #272822\">current_population</span><span style=\"color: #e6db74; text-decoration-color: #e6db74; background-color: #272822\">}\"</span><span style=\"color: #f8f8f2; text-decoration-color: #f8f8f2; background-color: #272822\">)</span><span style=\"background-color: #272822\">                                                             </span>  \n",
       "  <span style=\"color: #f8f8f2; text-decoration-color: #f8f8f2; background-color: #272822\">print(</span><span style=\"color: #e6db74; text-decoration-color: #e6db74; background-color: #272822\">f\"Population growth rate: {</span><span style=\"color: #f8f8f2; text-decoration-color: #f8f8f2; background-color: #272822\">growth_rate</span><span style=\"color: #e6db74; text-decoration-color: #e6db74; background-color: #272822\">}\"</span><span style=\"color: #f8f8f2; text-decoration-color: #f8f8f2; background-color: #272822\">)</span><span style=\"background-color: #272822\">                                                                </span>  \n",
       " ───────────────────────────────────────────────────────────────────────────────────────────────────────────────── \n",
       "</pre>\n"
      ],
      "text/plain": [
       " ─ \u001b[1mExecuting parsed code:\u001b[0m ──────────────────────────────────────────────────────────────────────────────────────── \n",
       "  \u001b[38;2;248;248;242;48;2;39;40;34mcurrent_population\u001b[0m\u001b[38;2;248;248;242;48;2;39;40;34m \u001b[0m\u001b[38;2;255;70;137;48;2;39;40;34m=\u001b[0m\u001b[38;2;248;248;242;48;2;39;40;34m \u001b[0m\u001b[38;2;248;248;242;48;2;39;40;34mweb_search\u001b[0m\u001b[38;2;248;248;242;48;2;39;40;34m(\u001b[0m\u001b[38;2;230;219;116;48;2;39;40;34m\"\u001b[0m\u001b[38;2;230;219;116;48;2;39;40;34mChina\u001b[0m\u001b[38;2;230;219;116;48;2;39;40;34m'\u001b[0m\u001b[38;2;230;219;116;48;2;39;40;34ms population in 2023\u001b[0m\u001b[38;2;230;219;116;48;2;39;40;34m\"\u001b[0m\u001b[38;2;248;248;242;48;2;39;40;34m)\u001b[0m\u001b[48;2;39;40;34m                                                  \u001b[0m  \n",
       "  \u001b[38;2;248;248;242;48;2;39;40;34mgrowth_rate\u001b[0m\u001b[38;2;248;248;242;48;2;39;40;34m \u001b[0m\u001b[38;2;255;70;137;48;2;39;40;34m=\u001b[0m\u001b[38;2;248;248;242;48;2;39;40;34m \u001b[0m\u001b[38;2;248;248;242;48;2;39;40;34mweb_search\u001b[0m\u001b[38;2;248;248;242;48;2;39;40;34m(\u001b[0m\u001b[38;2;230;219;116;48;2;39;40;34m\"\u001b[0m\u001b[38;2;230;219;116;48;2;39;40;34mChina population growth rate 2023\u001b[0m\u001b[38;2;230;219;116;48;2;39;40;34m\"\u001b[0m\u001b[38;2;248;248;242;48;2;39;40;34m)\u001b[0m\u001b[48;2;39;40;34m                                                  \u001b[0m  \n",
       "  \u001b[38;2;248;248;242;48;2;39;40;34mprint\u001b[0m\u001b[38;2;248;248;242;48;2;39;40;34m(\u001b[0m\u001b[38;2;230;219;116;48;2;39;40;34mf\u001b[0m\u001b[38;2;230;219;116;48;2;39;40;34m\"\u001b[0m\u001b[38;2;230;219;116;48;2;39;40;34mCurrent population: \u001b[0m\u001b[38;2;230;219;116;48;2;39;40;34m{\u001b[0m\u001b[38;2;248;248;242;48;2;39;40;34mcurrent_population\u001b[0m\u001b[38;2;230;219;116;48;2;39;40;34m}\u001b[0m\u001b[38;2;230;219;116;48;2;39;40;34m\"\u001b[0m\u001b[38;2;248;248;242;48;2;39;40;34m)\u001b[0m\u001b[48;2;39;40;34m                                                             \u001b[0m  \n",
       "  \u001b[38;2;248;248;242;48;2;39;40;34mprint\u001b[0m\u001b[38;2;248;248;242;48;2;39;40;34m(\u001b[0m\u001b[38;2;230;219;116;48;2;39;40;34mf\u001b[0m\u001b[38;2;230;219;116;48;2;39;40;34m\"\u001b[0m\u001b[38;2;230;219;116;48;2;39;40;34mPopulation growth rate: \u001b[0m\u001b[38;2;230;219;116;48;2;39;40;34m{\u001b[0m\u001b[38;2;248;248;242;48;2;39;40;34mgrowth_rate\u001b[0m\u001b[38;2;230;219;116;48;2;39;40;34m}\u001b[0m\u001b[38;2;230;219;116;48;2;39;40;34m\"\u001b[0m\u001b[38;2;248;248;242;48;2;39;40;34m)\u001b[0m\u001b[48;2;39;40;34m                                                                \u001b[0m  \n",
       " ───────────────────────────────────────────────────────────────────────────────────────────────────────────────── \n"
      ]
     },
     "metadata": {},
     "output_type": "display_data"
    },
    {
     "data": {
      "text/html": [
       "<pre style=\"white-space:pre;overflow-x:auto;line-height:normal;font-family:Menlo,'DejaVu Sans Mono',consolas,'Courier New',monospace\"><span style=\"font-weight: bold\">Execution logs:</span>\n",
       "Current population: ## Search Results\n",
       "\n",
       "[China's population decline is getting close to \n",
       "irreversible](https://www.piie.com/research/piie-charts/2024/chinas-population-decline-getting-close-irreversible)\n",
       "China's total natural population dropped by more than 2 million in 2023, according to the latest Chinese \n",
       "statistics. The country recorded 9.0 million births and 11.1 million deaths. Births continued their precipitous \n",
       "post-2016 decline—now down by more than 50 percent in just eight years—while deaths ticked up marginally again.\n",
       "\n",
       "[Demographics of China - statistics &amp; facts | Statista](https://www.statista.com/topics/1276/population-in-china/)\n",
       "Guangdong is the most populous province in China with a population of approximately 127 million people by the end \n",
       "of 2023, followed by Shandong, Henan, and Jiangsu provinces with around 101, 98 ...\n",
       "\n",
       "[Statistical Communiqué of The People'S Republic of China on The 2023 \n",
       "...](https://www.stats.gov.cn/english/PressRelease/202402/t20240228_1947918.html)\n",
       "Table 1: Population and Its Composition by the End of 2023 . Item. Population at Year-end ... At the end of 2023, \n",
       "China's foreign exchange reserves reached 3,238.0 billion US dollars, an increase of 110.3 billion US dollars \n",
       "compared with that at the end of 2022. The average exchange rate of the year was 7.0467 RMB to 1 USD dollar, \n",
       "depreciated ...\n",
       "\n",
       "[China's population drop for a second straight year in 2023 | AP \n",
       "News](https://apnews.com/article/china-population-births-deaths-covid-b0ec148b3f8db6b2863aeca02078bd7a)\n",
       "China's population fell by 2 million people in 2023 in the second straight annual decrease as births dropped and \n",
       "deaths jumped. The government's statistics bureau said Wednesday that the total population was 1.4 billion last \n",
       "year.\n",
       "\n",
       "[China Population 1960-2025 - \n",
       "Macrotrends](https://www.macrotrends.net/global-metrics/countries/CHN/china/population)\n",
       "China population for 2023 was 1,410,710,000.00, a 0.1% decline from 2022. ... China population for 2020 was \n",
       "1,411,100,000.00, a 0.24% increase from 2019. Total population is based on the de facto definition of population, \n",
       "which counts all residents regardless of legal status or citizenship. The values shown are midyear estimates.\n",
       "\n",
       "[China's population decreases by 2.08 million in 2023 to 1.40967 \n",
       "billion](https://www.globaltimes.cn/page/202401/1305550.shtml)\n",
       "China's population decreased by 2.08 million people in 2023 to 1.40967 billion, the National Bureau of Statistics \n",
       "(NBS) data showed on Wednesday. In 2023, 9.02 million babies were born ...\n",
       "\n",
       "[China's population drops for second year, with record low birth rate \n",
       "...](https://www.reuters.com/world/china/chinas-population-drops-2nd-year-raises-long-term-growth-concerns-2024-01-\n",
       "17/)\n",
       "China's population drops 0.15% y/y in 2023; Birth rate at new low, death rate at highest since 1974; Total new \n",
       "births drop 5.7% to 9.02 mln; Total deaths rise 6.6% to 11.1 mln\n",
       "\n",
       "[China's population declines for second straight year as economy \n",
       "...](https://www.cnn.com/2024/01/17/economy/china-population-gdp-decline-2023/index.html)\n",
       "China reported a record low birth rate in 2023 as its population shrank for the second year in a row. The trend \n",
       "marked the deepening of a demographic challenge set to have significant implications ...\n",
       "\n",
       "[Total population of China 1980-2029 - \n",
       "Statista](https://www.statista.com/statistics/263765/total-population-of-china/)\n",
       "China's total population decreased by 2.08 million to 1.41 billion in 2023. That year, India overtook China being \n",
       "the most populous country worldwide.\n",
       "\n",
       "[China - Population 2023 - countryeconomy.com](https://countryeconomy.com/demography/population/china?year=2023)\n",
       "The male population is greater, with 719,169,536 men, representing 50.98% of the total, compared to 691,540,464 or \n",
       "50.98% women. China, with 147 people per square km and it was in position 137th in our ranking of density \n",
       "population in 2023. In this page we show you the progression of the population in China.\n",
       "Population growth rate: ## Search Results\n",
       "\n",
       "[China Population Growth Rate 1961-2025 - \n",
       "Macrotrends](https://www.macrotrends.net/global-metrics/countries/CHN/china/population-growth-rate)\n",
       "China population growth rate for 2020 was 0.24%, a 0.12% decline from 2019. Annual population growth rate for year \n",
       "t is the exponential rate of growth of midyear population from year t-1 to t, expressed as a percentage . \n",
       "Population is based on the de facto definition of population, which counts all residents regardless of legal status\n",
       "or ...\n",
       "\n",
       "[Population growth in China - Worlddata.info](https://www.worlddata.info/asia/china/populationgrowth.php)\n",
       "Population growth in China From 1960 to 2023 the population of China increased from 667.07 million to 1.41 billion \n",
       "people. This is a growth of 111.5 percent in 63 years. In the same period, the total population of all countries \n",
       "worldwide increased by 165.9 percent. The highest increase in China was recorded in 1966 with 2.83 percent.\n",
       "\n",
       "[China's population decline is getting close to \n",
       "irreversible](https://www.piie.com/research/piie-charts/2024/chinas-population-decline-getting-close-irreversible)\n",
       "China's total natural population [1] dropped by more than 2 million in 2023, according to the latest Chinese \n",
       "statistics. The country recorded 9.0 million births and 11.1 million deaths. Births continued their precipitous \n",
       "post-2016 decline—now down by more than 50 percent in just eight years—while deaths ticked up marginally again. \n",
       "This chart shows trends in Chinese birth and death rates ...\n",
       "\n",
       "[Population growth (annual %) - China | Data](https://data.worldbank.org/indicator/SP.POP.GROW?locations=CN)\n",
       "Population source: ( 1 ) United Nations Population Division. World Population Prospects: 2024 Revision; ( 2 ) \n",
       "Statistical databases and publications from national statistical offices; ( 3 ) Eurostat: Demographic Statistics; (\n",
       "4 ) United Nations Statistics Division.\n",
       "\n",
       "[China's population decreases by 2.08 million in 2023 to 1.40967 \n",
       "billion](https://www.globaltimes.cn/page/202401/1305550.shtml)\n",
       "China's population decreased by 2.08 million people in 2023 to 1.40967 billion, the National Bureau of Statistics \n",
       "(NBS) data showed on Wednesday. In 2023, 9.02 million babies were born ...\n",
       "\n",
       "[Total population of China 1980-2029 - \n",
       "Statista](https://www.statista.com/statistics/263765/total-population-of-china/)\n",
       "China's total population decreased by 2.08 million to 1.41 billion in 2023. That year, India overtook China being \n",
       "the most populous country worldwide.\n",
       "\n",
       "[Population Growth for China - FRED | St. Louis Fed](https://fred.stlouisfed.org/series/SPPOPGROWCHN)\n",
       "Graph and download economic data for Population Growth for China (SPPOPGROWCHN) from 1961 to 2023 about China, \n",
       "population, and rate.\n",
       "\n",
       "[Chart: Chinese Population Keeps on Shrinking | \n",
       "Statista](https://www.statista.com/chart/24837/population-and-growth-rate-in-chinas-census/)\n",
       "Around 1.4083 billion people lived in China at the end of 2024, down from 1.4098 billion in 2023. The average \n",
       "annual growth rate of the population was therefore -0.1 percent between the two years.\n",
       "\n",
       "[Population of China 2023 - PopulationPyramid.net](https://www.populationpyramid.net/china/2023/)\n",
       "The web page shows the population pyramid of China in 2023, with projections based on data from 1950 to 2015. It \n",
       "also provides links to other visualizations of population indicators and maps for China and other countries.\n",
       "\n",
       "[China Population growth - data, chart | \n",
       "TheGlobalEconomy.com](https://www.theglobaleconomy.com/China/population_growth/)\n",
       "China: Population growth, percent: The latest value from 2023 is -0.1 percent, a decline from -0.01 percent in \n",
       "2022. In comparison, the world average is 1.15 percent, based on data from 196 countries. Historically, the average\n",
       "for China from 1961 to 2023 is 1.19 percent. The minimum value, -1.02 percent, was reached in 1961 while the \n",
       "maximum of 2.79 percent was recorded in 1966.\n",
       "\n",
       "Out: None\n",
       "</pre>\n"
      ],
      "text/plain": [
       "\u001b[1mExecution logs:\u001b[0m\n",
       "Current population: ## Search Results\n",
       "\n",
       "[China's population decline is getting close to \n",
       "irreversible](https://www.piie.com/research/piie-charts/2024/chinas-population-decline-getting-close-irreversible)\n",
       "China's total natural population dropped by more than 2 million in 2023, according to the latest Chinese \n",
       "statistics. The country recorded 9.0 million births and 11.1 million deaths. Births continued their precipitous \n",
       "post-2016 decline—now down by more than 50 percent in just eight years—while deaths ticked up marginally again.\n",
       "\n",
       "[Demographics of China - statistics & facts | Statista](https://www.statista.com/topics/1276/population-in-china/)\n",
       "Guangdong is the most populous province in China with a population of approximately 127 million people by the end \n",
       "of 2023, followed by Shandong, Henan, and Jiangsu provinces with around 101, 98 ...\n",
       "\n",
       "[Statistical Communiqué of The People'S Republic of China on The 2023 \n",
       "...](https://www.stats.gov.cn/english/PressRelease/202402/t20240228_1947918.html)\n",
       "Table 1: Population and Its Composition by the End of 2023 . Item. Population at Year-end ... At the end of 2023, \n",
       "China's foreign exchange reserves reached 3,238.0 billion US dollars, an increase of 110.3 billion US dollars \n",
       "compared with that at the end of 2022. The average exchange rate of the year was 7.0467 RMB to 1 USD dollar, \n",
       "depreciated ...\n",
       "\n",
       "[China's population drop for a second straight year in 2023 | AP \n",
       "News](https://apnews.com/article/china-population-births-deaths-covid-b0ec148b3f8db6b2863aeca02078bd7a)\n",
       "China's population fell by 2 million people in 2023 in the second straight annual decrease as births dropped and \n",
       "deaths jumped. The government's statistics bureau said Wednesday that the total population was 1.4 billion last \n",
       "year.\n",
       "\n",
       "[China Population 1960-2025 - \n",
       "Macrotrends](https://www.macrotrends.net/global-metrics/countries/CHN/china/population)\n",
       "China population for 2023 was 1,410,710,000.00, a 0.1% decline from 2022. ... China population for 2020 was \n",
       "1,411,100,000.00, a 0.24% increase from 2019. Total population is based on the de facto definition of population, \n",
       "which counts all residents regardless of legal status or citizenship. The values shown are midyear estimates.\n",
       "\n",
       "[China's population decreases by 2.08 million in 2023 to 1.40967 \n",
       "billion](https://www.globaltimes.cn/page/202401/1305550.shtml)\n",
       "China's population decreased by 2.08 million people in 2023 to 1.40967 billion, the National Bureau of Statistics \n",
       "(NBS) data showed on Wednesday. In 2023, 9.02 million babies were born ...\n",
       "\n",
       "[China's population drops for second year, with record low birth rate \n",
       "...](https://www.reuters.com/world/china/chinas-population-drops-2nd-year-raises-long-term-growth-concerns-2024-01-\n",
       "17/)\n",
       "China's population drops 0.15% y/y in 2023; Birth rate at new low, death rate at highest since 1974; Total new \n",
       "births drop 5.7% to 9.02 mln; Total deaths rise 6.6% to 11.1 mln\n",
       "\n",
       "[China's population declines for second straight year as economy \n",
       "...](https://www.cnn.com/2024/01/17/economy/china-population-gdp-decline-2023/index.html)\n",
       "China reported a record low birth rate in 2023 as its population shrank for the second year in a row. The trend \n",
       "marked the deepening of a demographic challenge set to have significant implications ...\n",
       "\n",
       "[Total population of China 1980-2029 - \n",
       "Statista](https://www.statista.com/statistics/263765/total-population-of-china/)\n",
       "China's total population decreased by 2.08 million to 1.41 billion in 2023. That year, India overtook China being \n",
       "the most populous country worldwide.\n",
       "\n",
       "[China - Population 2023 - countryeconomy.com](https://countryeconomy.com/demography/population/china?year=2023)\n",
       "The male population is greater, with 719,169,536 men, representing 50.98% of the total, compared to 691,540,464 or \n",
       "50.98% women. China, with 147 people per square km and it was in position 137th in our ranking of density \n",
       "population in 2023. In this page we show you the progression of the population in China.\n",
       "Population growth rate: ## Search Results\n",
       "\n",
       "[China Population Growth Rate 1961-2025 - \n",
       "Macrotrends](https://www.macrotrends.net/global-metrics/countries/CHN/china/population-growth-rate)\n",
       "China population growth rate for 2020 was 0.24%, a 0.12% decline from 2019. Annual population growth rate for year \n",
       "t is the exponential rate of growth of midyear population from year t-1 to t, expressed as a percentage . \n",
       "Population is based on the de facto definition of population, which counts all residents regardless of legal status\n",
       "or ...\n",
       "\n",
       "[Population growth in China - Worlddata.info](https://www.worlddata.info/asia/china/populationgrowth.php)\n",
       "Population growth in China From 1960 to 2023 the population of China increased from 667.07 million to 1.41 billion \n",
       "people. This is a growth of 111.5 percent in 63 years. In the same period, the total population of all countries \n",
       "worldwide increased by 165.9 percent. The highest increase in China was recorded in 1966 with 2.83 percent.\n",
       "\n",
       "[China's population decline is getting close to \n",
       "irreversible](https://www.piie.com/research/piie-charts/2024/chinas-population-decline-getting-close-irreversible)\n",
       "China's total natural population [1] dropped by more than 2 million in 2023, according to the latest Chinese \n",
       "statistics. The country recorded 9.0 million births and 11.1 million deaths. Births continued their precipitous \n",
       "post-2016 decline—now down by more than 50 percent in just eight years—while deaths ticked up marginally again. \n",
       "This chart shows trends in Chinese birth and death rates ...\n",
       "\n",
       "[Population growth (annual %) - China | Data](https://data.worldbank.org/indicator/SP.POP.GROW?locations=CN)\n",
       "Population source: ( 1 ) United Nations Population Division. World Population Prospects: 2024 Revision; ( 2 ) \n",
       "Statistical databases and publications from national statistical offices; ( 3 ) Eurostat: Demographic Statistics; (\n",
       "4 ) United Nations Statistics Division.\n",
       "\n",
       "[China's population decreases by 2.08 million in 2023 to 1.40967 \n",
       "billion](https://www.globaltimes.cn/page/202401/1305550.shtml)\n",
       "China's population decreased by 2.08 million people in 2023 to 1.40967 billion, the National Bureau of Statistics \n",
       "(NBS) data showed on Wednesday. In 2023, 9.02 million babies were born ...\n",
       "\n",
       "[Total population of China 1980-2029 - \n",
       "Statista](https://www.statista.com/statistics/263765/total-population-of-china/)\n",
       "China's total population decreased by 2.08 million to 1.41 billion in 2023. That year, India overtook China being \n",
       "the most populous country worldwide.\n",
       "\n",
       "[Population Growth for China - FRED | St. Louis Fed](https://fred.stlouisfed.org/series/SPPOPGROWCHN)\n",
       "Graph and download economic data for Population Growth for China (SPPOPGROWCHN) from 1961 to 2023 about China, \n",
       "population, and rate.\n",
       "\n",
       "[Chart: Chinese Population Keeps on Shrinking | \n",
       "Statista](https://www.statista.com/chart/24837/population-and-growth-rate-in-chinas-census/)\n",
       "Around 1.4083 billion people lived in China at the end of 2024, down from 1.4098 billion in 2023. The average \n",
       "annual growth rate of the population was therefore -0.1 percent between the two years.\n",
       "\n",
       "[Population of China 2023 - PopulationPyramid.net](https://www.populationpyramid.net/china/2023/)\n",
       "The web page shows the population pyramid of China in 2023, with projections based on data from 1950 to 2015. It \n",
       "also provides links to other visualizations of population indicators and maps for China and other countries.\n",
       "\n",
       "[China Population growth - data, chart | \n",
       "TheGlobalEconomy.com](https://www.theglobaleconomy.com/China/population_growth/)\n",
       "China: Population growth, percent: The latest value from 2023 is -0.1 percent, a decline from -0.01 percent in \n",
       "2022. In comparison, the world average is 1.15 percent, based on data from 196 countries. Historically, the average\n",
       "for China from 1961 to 2023 is 1.19 percent. The minimum value, -1.02 percent, was reached in 1961 while the \n",
       "maximum of 2.79 percent was recorded in 1966.\n",
       "\n",
       "Out: None\n"
      ]
     },
     "metadata": {},
     "output_type": "display_data"
    },
    {
     "data": {
      "text/html": [
       "<pre style=\"white-space:pre;overflow-x:auto;line-height:normal;font-family:Menlo,'DejaVu Sans Mono',consolas,'Courier New',monospace\"><span style=\"color: #7f7f7f; text-decoration-color: #7f7f7f\">[Step 1: Duration 15.91 seconds| Input tokens: 2,065 | Output tokens: 558]</span>\n",
       "</pre>\n"
      ],
      "text/plain": [
       "\u001b[2m[Step 1: Duration 15.91 seconds| Input tokens: 2,065 | Output tokens: 558]\u001b[0m\n"
      ]
     },
     "metadata": {},
     "output_type": "display_data"
    },
    {
     "data": {
      "text/html": [
       "<pre style=\"white-space:pre;overflow-x:auto;line-height:normal;font-family:Menlo,'DejaVu Sans Mono',consolas,'Courier New',monospace\"><span style=\"color: #d4b702; text-decoration-color: #d4b702\">━━━━━━━━━━━━━━━━━━━━━━━━━━━━━━━━━━━━━━━━━━━━━━━━━━━━━ </span><span style=\"font-weight: bold\">Step </span><span style=\"color: #008080; text-decoration-color: #008080; font-weight: bold\">2</span><span style=\"color: #d4b702; text-decoration-color: #d4b702\"> ━━━━━━━━━━━━━━━━━━━━━━━━━━━━━━━━━━━━━━━━━━━━━━━━━━━━━━</span>\n",
       "</pre>\n"
      ],
      "text/plain": [
       "\u001b[38;2;212;183;2m━━━━━━━━━━━━━━━━━━━━━━━━━━━━━━━━━━━━━━━━━━━━━━━━━━━━━ \u001b[0m\u001b[1mStep \u001b[0m\u001b[1;36m2\u001b[0m\u001b[38;2;212;183;2m ━━━━━━━━━━━━━━━━━━━━━━━━━━━━━━━━━━━━━━━━━━━━━━━━━━━━━━\u001b[0m\n"
      ]
     },
     "metadata": {},
     "output_type": "display_data"
    },
    {
     "data": {
      "text/html": [
       "<pre style=\"white-space:pre;overflow-x:auto;line-height:normal;font-family:Menlo,'DejaVu Sans Mono',consolas,'Courier New',monospace\"> ─ <span style=\"font-weight: bold\">Executing parsed code:</span> ──────────────────────────────────────────────────────────────────────────────────────── \n",
       "  <span style=\"color: #f8f8f2; text-decoration-color: #f8f8f2; background-color: #272822\">current_population </span><span style=\"color: #ff4689; text-decoration-color: #ff4689; background-color: #272822\">=</span><span style=\"color: #f8f8f2; text-decoration-color: #f8f8f2; background-color: #272822\"> </span><span style=\"color: #ae81ff; text-decoration-color: #ae81ff; background-color: #272822\">1410000000</span><span style=\"color: #f8f8f2; text-decoration-color: #f8f8f2; background-color: #272822\">  </span><span style=\"color: #959077; text-decoration-color: #959077; background-color: #272822\"># Approx. 1.41 billion from 2023 data</span><span style=\"background-color: #272822\">                                         </span>  \n",
       "  <span style=\"color: #f8f8f2; text-decoration-color: #f8f8f2; background-color: #272822\">growth_rate </span><span style=\"color: #ff4689; text-decoration-color: #ff4689; background-color: #272822\">=</span><span style=\"color: #f8f8f2; text-decoration-color: #f8f8f2; background-color: #272822\"> </span><span style=\"color: #ff4689; text-decoration-color: #ff4689; background-color: #272822\">-</span><span style=\"color: #ae81ff; text-decoration-color: #ae81ff; background-color: #272822\">0.001</span><span style=\"color: #f8f8f2; text-decoration-color: #f8f8f2; background-color: #272822\">  </span><span style=\"color: #959077; text-decoration-color: #959077; background-color: #272822\"># -0.1% annual decline</span><span style=\"background-color: #272822\">                                                                   </span>  \n",
       "  <span style=\"color: #f8f8f2; text-decoration-color: #f8f8f2; background-color: #272822\">years </span><span style=\"color: #ff4689; text-decoration-color: #ff4689; background-color: #272822\">=</span><span style=\"color: #f8f8f2; text-decoration-color: #f8f8f2; background-color: #272822\"> </span><span style=\"color: #ae81ff; text-decoration-color: #ae81ff; background-color: #272822\">2030</span><span style=\"color: #f8f8f2; text-decoration-color: #f8f8f2; background-color: #272822\"> </span><span style=\"color: #ff4689; text-decoration-color: #ff4689; background-color: #272822\">-</span><span style=\"color: #f8f8f2; text-decoration-color: #f8f8f2; background-color: #272822\"> </span><span style=\"color: #ae81ff; text-decoration-color: #ae81ff; background-color: #272822\">2023</span><span style=\"color: #f8f8f2; text-decoration-color: #f8f8f2; background-color: #272822\">  </span><span style=\"color: #959077; text-decoration-color: #959077; background-color: #272822\"># 7 years</span><span style=\"background-color: #272822\">                                                                                 </span>  \n",
       "  <span style=\"background-color: #272822\">                                                                                                               </span>  \n",
       "  <span style=\"color: #959077; text-decoration-color: #959077; background-color: #272822\"># Calculate future population using compound growth formula</span><span style=\"background-color: #272822\">                                                    </span>  \n",
       "  <span style=\"color: #f8f8f2; text-decoration-color: #f8f8f2; background-color: #272822\">future_population </span><span style=\"color: #ff4689; text-decoration-color: #ff4689; background-color: #272822\">=</span><span style=\"color: #f8f8f2; text-decoration-color: #f8f8f2; background-color: #272822\"> current_population </span><span style=\"color: #ff4689; text-decoration-color: #ff4689; background-color: #272822\">*</span><span style=\"color: #f8f8f2; text-decoration-color: #f8f8f2; background-color: #272822\"> (</span><span style=\"color: #ae81ff; text-decoration-color: #ae81ff; background-color: #272822\">1</span><span style=\"color: #f8f8f2; text-decoration-color: #f8f8f2; background-color: #272822\"> </span><span style=\"color: #ff4689; text-decoration-color: #ff4689; background-color: #272822\">+</span><span style=\"color: #f8f8f2; text-decoration-color: #f8f8f2; background-color: #272822\"> growth_rate) </span><span style=\"color: #ff4689; text-decoration-color: #ff4689; background-color: #272822\">**</span><span style=\"color: #f8f8f2; text-decoration-color: #f8f8f2; background-color: #272822\"> years</span><span style=\"background-color: #272822\">                                            </span>  \n",
       "  <span style=\"color: #f8f8f2; text-decoration-color: #f8f8f2; background-color: #272822\">final_answer(future_population)</span><span style=\"background-color: #272822\">                                                                                </span>  \n",
       " ───────────────────────────────────────────────────────────────────────────────────────────────────────────────── \n",
       "</pre>\n"
      ],
      "text/plain": [
       " ─ \u001b[1mExecuting parsed code:\u001b[0m ──────────────────────────────────────────────────────────────────────────────────────── \n",
       "  \u001b[38;2;248;248;242;48;2;39;40;34mcurrent_population\u001b[0m\u001b[38;2;248;248;242;48;2;39;40;34m \u001b[0m\u001b[38;2;255;70;137;48;2;39;40;34m=\u001b[0m\u001b[38;2;248;248;242;48;2;39;40;34m \u001b[0m\u001b[38;2;174;129;255;48;2;39;40;34m1410000000\u001b[0m\u001b[38;2;248;248;242;48;2;39;40;34m  \u001b[0m\u001b[38;2;149;144;119;48;2;39;40;34m# Approx. 1.41 billion from 2023 data\u001b[0m\u001b[48;2;39;40;34m                                         \u001b[0m  \n",
       "  \u001b[38;2;248;248;242;48;2;39;40;34mgrowth_rate\u001b[0m\u001b[38;2;248;248;242;48;2;39;40;34m \u001b[0m\u001b[38;2;255;70;137;48;2;39;40;34m=\u001b[0m\u001b[38;2;248;248;242;48;2;39;40;34m \u001b[0m\u001b[38;2;255;70;137;48;2;39;40;34m-\u001b[0m\u001b[38;2;174;129;255;48;2;39;40;34m0.001\u001b[0m\u001b[38;2;248;248;242;48;2;39;40;34m  \u001b[0m\u001b[38;2;149;144;119;48;2;39;40;34m# -0.1% annual decline\u001b[0m\u001b[48;2;39;40;34m                                                                   \u001b[0m  \n",
       "  \u001b[38;2;248;248;242;48;2;39;40;34myears\u001b[0m\u001b[38;2;248;248;242;48;2;39;40;34m \u001b[0m\u001b[38;2;255;70;137;48;2;39;40;34m=\u001b[0m\u001b[38;2;248;248;242;48;2;39;40;34m \u001b[0m\u001b[38;2;174;129;255;48;2;39;40;34m2030\u001b[0m\u001b[38;2;248;248;242;48;2;39;40;34m \u001b[0m\u001b[38;2;255;70;137;48;2;39;40;34m-\u001b[0m\u001b[38;2;248;248;242;48;2;39;40;34m \u001b[0m\u001b[38;2;174;129;255;48;2;39;40;34m2023\u001b[0m\u001b[38;2;248;248;242;48;2;39;40;34m  \u001b[0m\u001b[38;2;149;144;119;48;2;39;40;34m# 7 years\u001b[0m\u001b[48;2;39;40;34m                                                                                 \u001b[0m  \n",
       "  \u001b[48;2;39;40;34m                                                                                                               \u001b[0m  \n",
       "  \u001b[38;2;149;144;119;48;2;39;40;34m# Calculate future population using compound growth formula\u001b[0m\u001b[48;2;39;40;34m                                                    \u001b[0m  \n",
       "  \u001b[38;2;248;248;242;48;2;39;40;34mfuture_population\u001b[0m\u001b[38;2;248;248;242;48;2;39;40;34m \u001b[0m\u001b[38;2;255;70;137;48;2;39;40;34m=\u001b[0m\u001b[38;2;248;248;242;48;2;39;40;34m \u001b[0m\u001b[38;2;248;248;242;48;2;39;40;34mcurrent_population\u001b[0m\u001b[38;2;248;248;242;48;2;39;40;34m \u001b[0m\u001b[38;2;255;70;137;48;2;39;40;34m*\u001b[0m\u001b[38;2;248;248;242;48;2;39;40;34m \u001b[0m\u001b[38;2;248;248;242;48;2;39;40;34m(\u001b[0m\u001b[38;2;174;129;255;48;2;39;40;34m1\u001b[0m\u001b[38;2;248;248;242;48;2;39;40;34m \u001b[0m\u001b[38;2;255;70;137;48;2;39;40;34m+\u001b[0m\u001b[38;2;248;248;242;48;2;39;40;34m \u001b[0m\u001b[38;2;248;248;242;48;2;39;40;34mgrowth_rate\u001b[0m\u001b[38;2;248;248;242;48;2;39;40;34m)\u001b[0m\u001b[38;2;248;248;242;48;2;39;40;34m \u001b[0m\u001b[38;2;255;70;137;48;2;39;40;34m*\u001b[0m\u001b[38;2;255;70;137;48;2;39;40;34m*\u001b[0m\u001b[38;2;248;248;242;48;2;39;40;34m \u001b[0m\u001b[38;2;248;248;242;48;2;39;40;34myears\u001b[0m\u001b[48;2;39;40;34m                                            \u001b[0m  \n",
       "  \u001b[38;2;248;248;242;48;2;39;40;34mfinal_answer\u001b[0m\u001b[38;2;248;248;242;48;2;39;40;34m(\u001b[0m\u001b[38;2;248;248;242;48;2;39;40;34mfuture_population\u001b[0m\u001b[38;2;248;248;242;48;2;39;40;34m)\u001b[0m\u001b[48;2;39;40;34m                                                                                \u001b[0m  \n",
       " ───────────────────────────────────────────────────────────────────────────────────────────────────────────────── \n"
      ]
     },
     "metadata": {},
     "output_type": "display_data"
    },
    {
     "data": {
      "text/html": [
       "<pre style=\"white-space:pre;overflow-x:auto;line-height:normal;font-family:Menlo,'DejaVu Sans Mono',consolas,'Courier New',monospace\"><span style=\"color: #d4b702; text-decoration-color: #d4b702; font-weight: bold\">Out - Final answer: 1400159560.6993206</span>\n",
       "</pre>\n"
      ],
      "text/plain": [
       "\u001b[1;38;2;212;183;2mOut - Final answer: 1400159560.6993206\u001b[0m\n"
      ]
     },
     "metadata": {},
     "output_type": "display_data"
    },
    {
     "data": {
      "text/html": [
       "<pre style=\"white-space:pre;overflow-x:auto;line-height:normal;font-family:Menlo,'DejaVu Sans Mono',consolas,'Courier New',monospace\"><span style=\"color: #7f7f7f; text-decoration-color: #7f7f7f\">[Step 2: Duration 13.42 seconds| Input tokens: 6,636 | Output tokens: 1,104]</span>\n",
       "</pre>\n"
      ],
      "text/plain": [
       "\u001b[2m[Step 2: Duration 13.42 seconds| Input tokens: 6,636 | Output tokens: 1,104]\u001b[0m\n"
      ]
     },
     "metadata": {},
     "output_type": "display_data"
    },
    {
     "data": {
      "text/plain": [
       "1400159560.6993206"
      ]
     },
     "execution_count": 5,
     "metadata": {},
     "output_type": "execute_result"
    }
   ],
   "source": [
    "\n",
    "agent = CodeAgent(tools=[DuckDuckGoSearchTool()], \n",
    "                  model=model,\n",
    "                  additional_authorized_imports=['pandas','numpy','sklearn'])\n",
    "agent.run(\"Based on the population growth of China over the last ten years, what will the population be in 2030?\")"
   ]
  },
  {
   "cell_type": "markdown",
   "id": "7342b7ab-8ee1-493c-bf9b-b65259728fe6",
   "metadata": {},
   "source": [
    "### 3. Conclusion\n",
    "\n",
    "* This notebook demonstrates how smolagents uses tools and a code-first approach to perform reasoning using the \"REact\" framework.\n",
    "* The example shows how python code is used to perform a web query using the DuckDuckGoSearchTool to retrieve information required to answer the query, and the how python code is written to use this data to determine the final answer.\n",
    "* The default LLM used by this example `Qwen/Qwen2.5-Coder-32B-Instruct` performs well at tool calling and generating python code to perform reasoning\n"
   ]
  }
 ],
 "metadata": {
  "kernelspec": {
   "display_name": "Python 3.11",
   "language": "python",
   "name": "python3"
  },
  "language_info": {
   "codemirror_mode": {
    "name": "ipython",
    "version": 3
   },
   "file_extension": ".py",
   "mimetype": "text/x-python",
   "name": "python",
   "nbconvert_exporter": "python",
   "pygments_lexer": "ipython3",
   "version": "3.11.9"
  }
 },
 "nbformat": 4,
 "nbformat_minor": 5
}
